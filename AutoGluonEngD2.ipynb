{
  "nbformat": 4,
  "nbformat_minor": 0,
  "metadata": {
    "colab": {
      "name": "AutoGluonEngD2.ipynb",
      "provenance": [],
      "collapsed_sections": [],
      "mount_file_id": "1H1nOtxKddgAyJxXQhifMdvM7jMxFwJeH",
      "authorship_tag": "ABX9TyOWg8YPXjIITwmZPcowdjqc",
      "include_colab_link": true
    },
    "kernelspec": {
      "name": "python3",
      "display_name": "Python 3"
    },
    "language_info": {
      "name": "python"
    }
  },
  "cells": [
    {
      "cell_type": "markdown",
      "metadata": {
        "id": "view-in-github",
        "colab_type": "text"
      },
      "source": [
        "<a href=\"https://colab.research.google.com/github/AliCollins/AliCollins.github.io/blob/master/AutoGluonEngD2.ipynb\" target=\"_parent\"><img src=\"https://colab.research.google.com/assets/colab-badge.svg\" alt=\"Open In Colab\"/></a>"
      ]
    },
    {
      "cell_type": "markdown",
      "metadata": {
        "id": "KqkyWl2Fxt5x"
      },
      "source": [
        "Attempting to use AutoGluon to give some understanding of what is happening in the wet gas dataset.  If I train on all the data except meter ??, do I get an accurate output on meter ???."
      ]
    },
    {
      "cell_type": "code",
      "metadata": {
        "id": "NYoPDfKzxpaf"
      },
      "source": [
        "# # Uninstall mkl for faster neural-network training time\n",
        "# !pip uninstall -y mkl\n",
        "# # Upgrade pip to ensure the latest package versions are available\n",
        "# !pip install -U pip\n",
        "# !pip install -U \"mxnet<2.0.0\"\n",
        "# !pip install autogluon\n",
        "# !pip install -U ipykernel"
      ],
      "execution_count": 11,
      "outputs": []
    },
    {
      "cell_type": "code",
      "metadata": {
        "id": "lwjPx5UeydQ4"
      },
      "source": [
        "import autogluon as ag\n",
        "from autogluon.tabular import TabularDataset, TabularPredictor"
      ],
      "execution_count": 12,
      "outputs": []
    },
    {
      "cell_type": "markdown",
      "metadata": {
        "id": "wYHOQHpd2WMh"
      },
      "source": [
        "Load in the data"
      ]
    },
    {
      "cell_type": "code",
      "metadata": {
        "id": "7AbI5N_U2Vh-"
      },
      "source": [
        "# Load the Drive helper and mount\n",
        "from google.colab import drive\n",
        "import pandas as pd\n",
        "import numpy as np"
      ],
      "execution_count": 13,
      "outputs": []
    },
    {
      "cell_type": "code",
      "metadata": {
        "colab": {
          "base_uri": "https://localhost:8080/"
        },
        "id": "hqKyIb9V2rkO",
        "outputId": "f692df3c-5b4f-4559-f426-289ae1d9ee22"
      },
      "source": [
        "# raw_data = pd.read_excel(\"/content/drive/MyDrive/EngD/3 Venturi for Matlab.xlsx\")\n",
        "all_data = pd.read_excel(\"/content/drive/MyDrive/EngD/Dualstream WGC Database for EngD.xlsx\", sheet_name=None) # Pulls in all the sheets of data\n",
        "# Create the data frame\n",
        "# df = pd.DataFrame(data=raw_data, )\n",
        "df = pd.DataFrame(data=all_data.get(\"WETGAS\"), )\n",
        "df = df[df['WET_POINT_ID'].apply(lambda x: isinstance(x, (int, np.int64)))] # remove rows where WET_POINT_ID is not an integer value\n",
        "\n",
        "# Setup the meters DataFrame from which to get the dimensional data\n",
        "meters = all_data.get(\"METERS\")\n",
        "meters = meters[['METER_ID','PIPE_DIAMETER','ORIFICE_DIAMETER','MATERIAL_TE','BETA_VENTURI']]\n",
        "meters = meters.rename(columns={'PIPE_DIAMETER': 'D', 'ORIFICE_DIAMETER': 'd', 'MATERIAL_TE': 'TE', 'BETA_VENTURI': 'Beta'})\n",
        "\n",
        "df = pd.merge(df, meters, how=\"left\", on=[\"METER_ID\"])  # Merging the dimensional data (D, d, TE) into the df dataframe - D and d in mm\n",
        "\n",
        "# Rename columns\n",
        "df.rename(columns={'TEST_Qmg': 'Qmg', 'TEST_Qmc': 'Qmc', 'TEST_Qmw': 'Qmw'}, errors='raise', inplace='True')\n",
        "df.rename(columns={'SISA_P': 'Press', 'SISA_T': 'Temp', 'SISA_RHOG': 'RhoG', 'SISA_RHOC': 'RhoC', 'SISA_RHOW': 'RhoW'}, errors='raise', inplace='True')\n",
        "df.rename(columns={'SISA_GAS_VISCOSITY': 'Visc', 'SISA_GAS_IE': 'IE', \n",
        "                   'SISA_DPv_Hi': 'DPvH', 'SISA_DPv_Lo': 'DPvL', \n",
        "                   'SISA_DPt_Hi': 'DPtH', 'SISA_DPt_Lo': 'DPtL',\n",
        "                   'SISA_DPv_INUSE': 'DPv', 'SISA_DPt_INUSE': 'DPt'}, errors='raise', inplace='True')\n",
        "\n",
        "# Converting inputs to float types (rather than objects)\n",
        "df['Qmg'] = df['Qmg'].astype(float)\n",
        "df['Qmc'] = df['Qmc'].astype(float)\n",
        "df['Qmw'] = df['Qmw'].astype(float)\n",
        "df['RhoG'] = df['RhoG'].astype(float)\n",
        "df['RhoC'] = df['RhoC'].astype(float)\n",
        "df['RhoW'] = df['RhoW'].astype(float)\n",
        "df['Visc'] = df['Visc'].astype(float)\n",
        "df['IE'] = df['IE'].astype(float)\n",
        "df['Press'] = df['Press'].astype(float)\n",
        "df['Temp'] = df['Temp'].astype(float)\n",
        "df['DPv'] = df['DPv'].astype(float)\n",
        "df['DPt'] = df['DPt'].astype(float)\n",
        "\n",
        "# Set Qmw to zero for two test points (WET_POINT_ID 871 and 884) are dry gas with tiny non-zero water flow rate.\n",
        "df.loc[df.WET_POINT_ID == 871, 'Qmw'] = 0.0\n",
        "df.loc[df.WET_POINT_ID == 884, 'Qmw'] = 0.0\n",
        "\n",
        "# Extra parameters:\n",
        "\n",
        "# Add meter constants (later merge with \"meters\" table as per PLR1)\n",
        "# d = 68.46       # Throat diameter (mm) at 20 DegC\n",
        "# D = 124.29      # Pipe diameter (mm) at 20 DegC\n",
        "# TE = 0.0000173  # Thermal expansion coefficient ()\n",
        "# Beta = d / D\n",
        "# df['d'] = 68.46       # Throat diameter (mm) at 20 DegC\n",
        "# df['D'] = 124.29      # Pipe diameter (mm) at 20 DegC\n",
        "# df['TE'] = 0.0000173  # Thermal expansion coefficient ()\n",
        "df['Beta'] = df['d'] / df['D']\n",
        "# # Pipe Diameter (in m) allowing for thermal expansion\n",
        "# # df['DatT'] = D / 1000.0 * (1.0 + (df['Temp'] - 20.0) * TE) \n",
        "df['DatT'] = df['D'] / 1000.0 * (1.0 + (df['Temp'] - 20.0) * df['TE'])\n",
        "# # Pipe area (in m^2) at line temperature\n",
        "df['Area'] = df['DatT'] * df['DatT'] * np.pi / 4.0\n",
        "\n",
        "# Gas Mass Fraction\n",
        "df['GMF'] = df['Qmg']  / (df['Qmg'] + df['Qmc'] + df['Qmw'])\n",
        "# Superficial gas velocity (in m/s)\n",
        "df['vsg'] = df['Qmg'] / df['RhoG'] / df['Area']\n",
        "# Liquid Mass Density (kg/m3)\n",
        "df['RhoL'] = (np.where((df['Qmw'] + df['Qmc']) > 0.0, (df['Qmw'] + df['Qmc']) / ((df['Qmw'] / df['RhoW']) + (df['Qmc'] / df['RhoC'])), 800.0))\n",
        "# Water Liquid (volume) Ratio\n",
        "df['WLR'] = np.where(((df['Qmw'] + df['Qmc']) > 0.0) & (df['RhoW'] > 0.0) & (df['RhoC'] > 0.0), (df['Qmw'] / df['RhoW']) / ((df['Qmw'] / df['RhoW']) + (df['Qmc'] / df['RhoC'])), 0.0)\n",
        "# Densimetric Froude Gas number\n",
        "df['Frg'] = df['vsg'] / np.sqrt(9.8065 * df['DatT']) * np.sqrt(df['RhoG'] / (df['RhoL'] - df['RhoG']))\n",
        "# (simplified) Lockhart-Martinelli number\n",
        "df['X'] = (df['Qmc'] + df['Qmw']) / df['Qmg'] * np.sqrt(df['RhoG'] / df['RhoL'])\n",
        "# Tau (P2 / P1)\n",
        "df['Tau'] = (df['Press'] - (df['DPv'] / 1000.0)) / df['Press']\n",
        "# DR (RhoG/RhoL)\n",
        "df['DR'] = df['RhoG'] / df['RhoL']\n",
        "# CGMR (Qmc / Qmg)\n",
        "df['CGMR'] = df['Qmc'] / df['Qmg']\n",
        "# PLR (DPt / DPv)\n",
        "df['PLR'] = df['DPt'] / df['DPv']\n",
        "\n",
        "# Calculate Venturi expansibility coefficient\n",
        "df['ExpA'] = df['IE'] * np.power(df['Tau'], 2.0 / df['IE']) / (df['IE'] - 1.0)\n",
        "df['ExpB'] = (1.0 - np.power(df['Beta'], 4.0)) / (1.0 - np.power(df['Beta'], 4.0) * np.power(df['Tau'], 2.0 / df['IE']))\n",
        "df['ExpC'] = (1.0 - np.power(df['Tau'], (df['IE'] - 1.0)/df['IE'])) / (1.0 - df['Tau'])\n",
        "df['Exp'] = np.sqrt(df['ExpA'] * df['ExpB'] * df['ExpC'])\n",
        "\n",
        "df['Qgmia'] = 1.0 / np.sqrt(1.0 - np.power(df['Beta'], 4.0)) * df['Exp'] * df['Area'] * np.power(df['Beta'], 2) * np.sqrt(200.0 * df['DPv'] * df['RhoG'])\n",
        "df['Cdv'] = np.where(df['GMF'] > 0.999, df['Qmg'] / df['Qgmia'], np.NaN)\n",
        "\n",
        "# Calculate Cdv for each meter\n",
        "df_dry = df[df['GMF'] > 0.999]\n",
        "#df_dry.head()\n",
        "\n",
        "# for each project ID, find the average Cdv\n",
        "Cdv_avg = df_dry.groupby(['PROJECT_ID']).agg({'Cdv': ['mean']})\n",
        "Cdv_avg = pd.DataFrame(Cdv_avg.to_records())\n",
        "Cdv_avg.rename(columns={list(Cdv_avg)[1]:'Cdv_avg'}, errors='raise', inplace='True')\n",
        "\n",
        "# Merge the average Cdv into the df dataframe\n",
        "df = pd.merge(df, Cdv_avg, how=\"left\", on=['PROJECT_ID'])\n",
        "\n",
        "# Calculate remaining properties\n",
        "df['Qgmi'] = df['Qgmia'] * df['Cdv_avg']\n",
        "\n",
        "def WGCcalc(row):\n",
        "  row['WGC'] = max(row['Qgmi'] / row['Qmg'], 1.0)\n",
        "  return row\n",
        "\n",
        "#df['WGC'] = df['Qgmi'] / df['Qmg']\n",
        "df = df.apply(WGCcalc, axis=1)\n",
        "\n",
        "# print(df.columns)\n",
        "\n",
        "# Remove points that are outside the liquid \"limits\" of wet gas and/or PLR\n",
        "df = df[df.X <= 0.3]\n",
        "df = df[df.GMF >= 0.80]\n",
        "\n",
        "\n",
        "print(df['METER_ID'].nunique())\n",
        "print(df['PROJECT_ID'].nunique())\n",
        "print(df['WET_POINT_ID'].nunique())"
      ],
      "execution_count": 156,
      "outputs": [
        {
          "output_type": "stream",
          "name": "stdout",
          "text": [
            "23\n",
            "22\n",
            "3554\n"
          ]
        }
      ]
    },
    {
      "cell_type": "code",
      "metadata": {
        "colab": {
          "base_uri": "https://localhost:8080/"
        },
        "id": "XGiMKqLo7u7O",
        "outputId": "1c5e992e-55f1-45f2-e8f3-62a633ab6317"
      },
      "source": [
        "# Select only required columns\n",
        "# df = df[[\"DR\", \"DPv\", \"DPt\", \"Frg\", \"WLR\", \"X\"]]\n",
        "# df = df[[\"DPv\", \"PLR\", \"RhoG\", \"vsg\", \"WLR\", \"X\"]]\n",
        "df = df[[\"PLR\", \"RhoG\", \"Qgmi\", \"WLR\", \"D\", \"Beta\", \"X\"]]\n",
        "# print(df.columns)\n",
        "df.head()\n",
        "\n",
        "train_data = TabularDataset(df)\n",
        "# subsample_size = 300\n",
        "# df.sample(subsample_size, random_state=0)\n",
        "train_data.head()\n",
        "\n",
        "save_path = 'agModels-predictClass'  # specifies folder to store trained models\n",
        "time_limit = 60 * 15 # time limit in seconds\n",
        "# predictor = TabularPredictor(label='X', path=save_path).fit(train_data)\n",
        "# predictor = TabularPredictor(label='X', path=save_path).fit(train_data, presets='best_quality') # TOOK ~20 times longer to run!\n",
        "predictor = TabularPredictor(label='X', path=save_path).fit(train_data, presets='best_quality', time_limit=time_limit) # Add in time limit to reduce maximum run time"
      ],
      "execution_count": 165,
      "outputs": [
        {
          "output_type": "stream",
          "name": "stderr",
          "text": [
            "Warning: path already exists! This predictor may overwrite an existing predictor! path=\"agModels-predictClass\"\n",
            "Beginning AutoGluon training ...\n",
            "AutoGluon will save models to \"agModels-predictClass/\"\n",
            "AutoGluon Version:  0.3.1\n",
            "Train Data Rows:    3554\n",
            "Train Data Columns: 6\n",
            "Preprocessing data ...\n",
            "AutoGluon infers your prediction problem is: 'regression' (because dtype of label-column == float and many unique label-values observed).\n",
            "\tLabel info (max, min, mean, stddev): (0.09780256328496673, 0.0, 0.02341, 0.01984)\n",
            "\tIf 'regression' is not the correct problem_type, please manually specify the problem_type argument in fit() (You may specify problem_type as one of: ['binary', 'multiclass', 'regression'])\n",
            "Using Feature Generators to preprocess the data ...\n",
            "Fitting AutoMLPipelineFeatureGenerator...\n",
            "\tAvailable Memory:                    11589.75 MB\n",
            "\tTrain Data (Original)  Memory Usage: 0.17 MB (0.0% of available memory)\n",
            "\tInferring data type of each feature based on column values. Set feature_metadata_in to manually specify special dtypes of the features.\n",
            "\tStage 1 Generators:\n",
            "\t\tFitting AsTypeFeatureGenerator...\n",
            "\tStage 2 Generators:\n",
            "\t\tFitting FillNaFeatureGenerator...\n",
            "\tStage 3 Generators:\n",
            "\t\tFitting IdentityFeatureGenerator...\n",
            "\tStage 4 Generators:\n",
            "\t\tFitting DropUniqueFeatureGenerator...\n",
            "\tTypes of features in original data (raw dtype, special dtypes):\n",
            "\t\t('float', []) : 6 | ['PLR', 'RhoG', 'Qgmi', 'WLR', 'D', ...]\n",
            "\tTypes of features in processed data (raw dtype, special dtypes):\n",
            "\t\t('float', []) : 6 | ['PLR', 'RhoG', 'Qgmi', 'WLR', 'D', ...]\n",
            "\t0.1s = Fit runtime\n",
            "\t6 features in original data used to generate 6 features in processed data.\n",
            "\tTrain Data (Processed) Memory Usage: 0.17 MB (0.0% of available memory)\n",
            "Data preprocessing and feature engineering runtime = 0.15s ...\n",
            "AutoGluon will gauge predictive performance using evaluation metric: 'root_mean_squared_error'\n",
            "\tTo change this, specify the eval_metric argument of fit()\n",
            "Automatically generating train/validation split with holdout_frac=0.14068655036578503, Train Rows: 3054, Val Rows: 500\n",
            "Fitting 11 L1 models ...\n",
            "Fitting model: KNeighborsUnif ...\n",
            "\t-0.0143\t = Validation score   (root_mean_squared_error)\n",
            "\t0.02s\t = Training   runtime\n",
            "\t0.1s\t = Validation runtime\n",
            "Fitting model: KNeighborsDist ...\n",
            "\t-0.0131\t = Validation score   (root_mean_squared_error)\n",
            "\t0.01s\t = Training   runtime\n",
            "\t0.1s\t = Validation runtime\n",
            "Fitting model: LightGBMXT ...\n",
            "/usr/local/lib/python3.7/dist-packages/lightgbm/engine.py:239: UserWarning: 'verbose_eval' argument is deprecated and will be removed in a future release of LightGBM. Pass 'log_evaluation()' callback via 'callbacks' argument instead.\n",
            "  _log_warning(\"'verbose_eval' argument is deprecated and will be removed in a future release of LightGBM. \"\n"
          ]
        },
        {
          "output_type": "stream",
          "name": "stdout",
          "text": [
            "[1000]\ttrain_set's rmse: 0.00544925\tvalid_set's rmse: 0.00747102\n",
            "[2000]\ttrain_set's rmse: 0.00453233\tvalid_set's rmse: 0.00723404\n",
            "[3000]\ttrain_set's rmse: 0.00398703\tvalid_set's rmse: 0.00708125\n",
            "[4000]\ttrain_set's rmse: 0.00359067\tvalid_set's rmse: 0.00698546\n",
            "[5000]\ttrain_set's rmse: 0.00329741\tvalid_set's rmse: 0.00691976\n",
            "[6000]\ttrain_set's rmse: 0.00306034\tvalid_set's rmse: 0.00687466\n",
            "[7000]\ttrain_set's rmse: 0.00285924\tvalid_set's rmse: 0.00684758\n",
            "[8000]\ttrain_set's rmse: 0.0026931\tvalid_set's rmse: 0.0068023\n",
            "[9000]\ttrain_set's rmse: 0.00254417\tvalid_set's rmse: 0.00679398\n",
            "[10000]\ttrain_set's rmse: 0.00241166\tvalid_set's rmse: 0.00676168\n"
          ]
        },
        {
          "output_type": "stream",
          "name": "stderr",
          "text": [
            "\t-0.0068\t = Validation score   (root_mean_squared_error)\n",
            "\t9.92s\t = Training   runtime\n",
            "\t0.84s\t = Validation runtime\n",
            "Fitting model: LightGBM ...\n",
            "/usr/local/lib/python3.7/dist-packages/lightgbm/engine.py:239: UserWarning: 'verbose_eval' argument is deprecated and will be removed in a future release of LightGBM. Pass 'log_evaluation()' callback via 'callbacks' argument instead.\n",
            "  _log_warning(\"'verbose_eval' argument is deprecated and will be removed in a future release of LightGBM. \"\n"
          ]
        },
        {
          "output_type": "stream",
          "name": "stdout",
          "text": [
            "[1000]\ttrain_set's rmse: 0.00248468\tvalid_set's rmse: 0.00719022\n",
            "[2000]\ttrain_set's rmse: 0.00168878\tvalid_set's rmse: 0.00704892\n",
            "[3000]\ttrain_set's rmse: 0.00135558\tvalid_set's rmse: 0.00699807\n",
            "[4000]\ttrain_set's rmse: 0.00119802\tvalid_set's rmse: 0.0069822\n",
            "[5000]\ttrain_set's rmse: 0.00111882\tvalid_set's rmse: 0.006984\n"
          ]
        },
        {
          "output_type": "stream",
          "name": "stderr",
          "text": [
            "\t-0.007\t = Validation score   (root_mean_squared_error)\n",
            "\t5.73s\t = Training   runtime\n",
            "\t0.22s\t = Validation runtime\n",
            "Fitting model: RandomForestMSE ...\n",
            "\t-0.0084\t = Validation score   (root_mean_squared_error)\n",
            "\t2.64s\t = Training   runtime\n",
            "\t0.2s\t = Validation runtime\n",
            "Fitting model: CatBoost ...\n",
            "\t-0.0068\t = Validation score   (root_mean_squared_error)\n",
            "\t10.21s\t = Training   runtime\n",
            "\t0.01s\t = Validation runtime\n",
            "Fitting model: ExtraTreesMSE ...\n",
            "\t-0.0078\t = Validation score   (root_mean_squared_error)\n",
            "\t1.34s\t = Training   runtime\n",
            "\t0.1s\t = Validation runtime\n",
            "Fitting model: NeuralNetFastAI ...\n",
            "\t-0.0073\t = Validation score   (root_mean_squared_error)\n",
            "\t4.55s\t = Training   runtime\n",
            "\t0.02s\t = Validation runtime\n",
            "Fitting model: XGBoost ...\n",
            "\t-0.0076\t = Validation score   (root_mean_squared_error)\n",
            "\t1.14s\t = Training   runtime\n",
            "\t0.01s\t = Validation runtime\n",
            "Fitting model: NeuralNetMXNet ...\n",
            "\t-0.0072\t = Validation score   (root_mean_squared_error)\n",
            "\t51.2s\t = Training   runtime\n",
            "\t0.18s\t = Validation runtime\n",
            "Fitting model: LightGBMLarge ...\n",
            "/usr/local/lib/python3.7/dist-packages/lightgbm/engine.py:239: UserWarning: 'verbose_eval' argument is deprecated and will be removed in a future release of LightGBM. Pass 'log_evaluation()' callback via 'callbacks' argument instead.\n",
            "  _log_warning(\"'verbose_eval' argument is deprecated and will be removed in a future release of LightGBM. \"\n",
            "\t-0.0077\t = Validation score   (root_mean_squared_error)\n",
            "\t2.06s\t = Training   runtime\n",
            "\t0.03s\t = Validation runtime\n",
            "Fitting model: WeightedEnsemble_L2 ...\n",
            "\t-0.0064\t = Validation score   (root_mean_squared_error)\n",
            "\t0.37s\t = Training   runtime\n",
            "\t0.0s\t = Validation runtime\n",
            "AutoGluon training complete, total runtime = 97.6s ...\n",
            "TabularPredictor saved. To load, use: predictor = TabularPredictor.load(\"agModels-predictClass/\")\n"
          ]
        }
      ]
    },
    {
      "cell_type": "code",
      "metadata": {
        "colab": {
          "base_uri": "https://localhost:8080/"
        },
        "id": "s80nh2Iw9W2F",
        "outputId": "a94cbeb8-73a9-454f-f443-464fcad09e62"
      },
      "source": [
        "test_data = TabularDataset(df) # Need to separate out data in future...but for now, how well will it do on the training dataset?\n",
        "y_test = test_data['X']\n",
        "test_data_nolab = test_data.drop(columns=['X'])  # delete label column to prove we're not cheating\n",
        "# test_data_nolab.head()\n",
        "\n",
        "# predictor = TabularPredictor.load(save_path)  # unnecessary, just demonstrates how to load previously-trained predictor from file\n",
        "y_pred = predictor.predict(test_data_nolab)\n",
        "# print(\"Predictions:  \\n\", y_pred)\n",
        "perf = predictor.evaluate_predictions(y_true=y_test, y_pred=y_pred, auxiliary_metrics=True)"
      ],
      "execution_count": 166,
      "outputs": [
        {
          "output_type": "stream",
          "name": "stderr",
          "text": [
            "Evaluation: root_mean_squared_error on test data: -0.003748580675869404\n",
            "\tNote: Scores are always higher_is_better. This metric score can be multiplied by -1 to get the metric value.\n",
            "Evaluations on test data:\n",
            "{\n",
            "    \"root_mean_squared_error\": -0.003748580675869404,\n",
            "    \"mean_squared_error\": -1.4051857083501491e-05,\n",
            "    \"mean_absolute_error\": -0.002111482836911924,\n",
            "    \"r2\": 0.9642849083700704,\n",
            "    \"pearsonr\": 0.9830407066673917,\n",
            "    \"median_absolute_error\": -0.0011107080976909267\n",
            "}\n"
          ]
        }
      ]
    },
    {
      "cell_type": "code",
      "source": [
        "# print(\"AutoGluon infers problem type is: \", predictor.problem_type)\n",
        "# print(\"AutoGluon identified the following types of features:\")\n",
        "# print(predictor.feature_metadata)\n",
        "\n",
        "# predictor.leaderboard(test_data, silent=True)"
      ],
      "metadata": {
        "id": "7_Wd8NFWKBMr"
      },
      "execution_count": 167,
      "outputs": []
    },
    {
      "cell_type": "code",
      "metadata": {
        "colab": {
          "base_uri": "https://localhost:8080/",
          "height": 265
        },
        "id": "aux6nR1d-OjL",
        "outputId": "4f5ac72c-3b3b-4084-bf48-3d591bd96575"
      },
      "source": [
        "df['Pred'] = y_pred\n",
        "df['Err'] = df['Pred'] - df['X']\n",
        "df['PercentErr'] = df['Err'] / df['X']\n",
        "\n",
        "import matplotlib.pyplot as plt\n",
        "plt.plot(df.X, df.Err, 'b.')\n",
        "plt.show()\n",
        "\n",
        "# pd.set_option('display.max_rows', None)\n",
        "# pd.set_option('display.max_columns', None)\n",
        "# print(df)"
      ],
      "execution_count": 168,
      "outputs": [
        {
          "output_type": "display_data",
          "data": {
            "image/png": "[encoded data removed]",
            "text/plain": [
              "<Figure size 432x288 with 1 Axes>"
            ]
          },
          "metadata": {
            "needs_background": "light"
          }
        }
      ]
    }
  ]
}